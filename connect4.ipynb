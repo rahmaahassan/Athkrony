{
  "nbformat": 4,
  "nbformat_minor": 0,
  "metadata": {
    "kernelspec": {
      "display_name": "Python 3",
      "language": "python",
      "name": "python3"
    },
    "language_info": {
      "codemirror_mode": {
        "name": "ipython",
        "version": 3
      },
      "file_extension": ".py",
      "mimetype": "text/x-python",
      "name": "python",
      "nbconvert_exporter": "python",
      "pygments_lexer": "ipython3",
      "version": "3.7.6"
    },
    "papermill": {
      "duration": 9.668484,
      "end_time": "2020-10-01T00:26:01.952188",
      "environment_variables": {},
      "exception": null,
      "input_path": "__notebook__.ipynb",
      "output_path": "__notebook__.ipynb",
      "parameters": {},
      "start_time": "2020-10-01T00:25:52.283704",
      "version": "2.1.0"
    },
    "colab": {
      "name": "connect4.ipynb",
      "provenance": [],
      "include_colab_link": true
    }
  },
  "cells": [
    {
      "cell_type": "markdown",
      "metadata": {
        "id": "view-in-github",
        "colab_type": "text"
      },
      "source": [
        "<a href=\"https://colab.research.google.com/github/rahmaahassan/Athkrony/blob/master/connect4.ipynb\" target=\"_parent\"><img src=\"https://colab.research.google.com/assets/colab-badge.svg\" alt=\"Open In Colab\"/></a>"
      ]
    },
    {
      "cell_type": "code",
      "metadata": {
        "id": "k45UGnjr01AK"
      },
      "source": [
        "pip install kaggle-environments"
      ],
      "execution_count": null,
      "outputs": []
    },
    {
      "cell_type": "code",
      "metadata": {
        "execution": {
          "iopub.execute_input": "2020-10-01T00:25:57.433629Z",
          "iopub.status.busy": "2020-10-01T00:25:57.432618Z",
          "iopub.status.idle": "2020-10-01T00:25:57.670002Z",
          "shell.execute_reply": "2020-10-01T00:25:57.670575Z"
        },
        "papermill": {
          "duration": 0.251105,
          "end_time": "2020-10-01T00:25:57.670760",
          "exception": false,
          "start_time": "2020-10-01T00:25:57.419655",
          "status": "completed"
        },
        "tags": [],
        "id": "_iyBBDhSwJdF"
      },
      "source": [
        "from kaggle_environments import make, evaluate\n",
        "\n",
        "# Create the game environment\n",
        "# Set debug=True to see the errors if your agent refuses to run\n",
        "env = make(\"connectx\", debug=True)\n",
        "\n",
        "# List of available default agents\n",
        "print(list(env.agents))"
      ],
      "execution_count": null,
      "outputs": []
    },
    {
      "cell_type": "code",
      "metadata": {
        "execution": {
          "iopub.execute_input": "2020-10-01T00:25:57.803672Z",
          "iopub.status.busy": "2020-10-01T00:25:57.802853Z",
          "iopub.status.idle": "2020-10-01T00:25:57.846218Z",
          "shell.execute_reply": "2020-10-01T00:25:57.846805Z"
        },
        "papermill": {
          "duration": 0.142918,
          "end_time": "2020-10-01T00:25:57.846974",
          "exception": false,
          "start_time": "2020-10-01T00:25:57.704056",
          "status": "completed"
        },
        "tags": [],
        "id": "0q4FWrIbwJdJ"
      },
      "source": [
        "# Two random agents play one game round\n",
        "env.run([\"random\", \"random\"])\n",
        "\n",
        "# Show the game\n",
        "env.render(mode=\"ipython\")"
      ],
      "execution_count": null,
      "outputs": []
    },
    {
      "cell_type": "code",
      "metadata": {
        "_kg_hide-input": true,
        "execution": {
          "iopub.execute_input": "2020-10-01T00:25:57.918026Z",
          "iopub.status.busy": "2020-10-01T00:25:57.917295Z",
          "iopub.status.idle": "2020-10-01T00:25:57.919208Z",
          "shell.execute_reply": "2020-10-01T00:25:57.919750Z"
        },
        "papermill": {
          "duration": 0.024746,
          "end_time": "2020-10-01T00:25:57.919895",
          "exception": false,
          "start_time": "2020-10-01T00:25:57.895149",
          "status": "completed"
        },
        "tags": [],
        "id": "3DQAkpf3wJdK"
      },
      "source": [
        "\n",
        "import random\n",
        "import numpy as np"
      ],
      "execution_count": 5,
      "outputs": []
    },
    {
      "cell_type": "code",
      "metadata": {
        "execution": {
          "iopub.execute_input": "2020-10-01T00:25:57.951724Z",
          "iopub.status.busy": "2020-10-01T00:25:57.951057Z",
          "iopub.status.idle": "2020-10-01T00:25:57.959621Z",
          "shell.execute_reply": "2020-10-01T00:25:57.960149Z"
        },
        "papermill": {
          "duration": 0.025875,
          "end_time": "2020-10-01T00:25:57.960294",
          "exception": false,
          "start_time": "2020-10-01T00:25:57.934419",
          "status": "completed"
        },
        "tags": [],
        "id": "L2K-Q0SQwJdL"
      },
      "source": [
        "# Selects random valid column\n",
        "def agent_random(obs, config):\n",
        "    valid_moves = [col for col in range(config.columns) if obs.board[col] == 0]\n",
        "    return random.choice(valid_moves)\n",
        "\n",
        "# Selects middle column\n",
        "def agent_middle(obs, config):\n",
        "    return config.columns//2\n",
        "\n",
        "# Selects leftmost valid column\n",
        "def agent_leftmost(obs, config):\n",
        "    valid_moves = [col for col in range(config.columns) if obs.board[col] == 0]\n",
        "    return valid_moves[0]"
      ],
      "execution_count": 6,
      "outputs": []
    },
    {
      "cell_type": "code",
      "metadata": {
        "execution": {
          "iopub.execute_input": "2020-10-01T00:25:58.053433Z",
          "iopub.status.busy": "2020-10-01T00:25:58.052752Z",
          "iopub.status.idle": "2020-10-01T00:25:58.066326Z",
          "shell.execute_reply": "2020-10-01T00:25:58.066901Z"
        },
        "papermill": {
          "duration": 0.064108,
          "end_time": "2020-10-01T00:25:58.067052",
          "exception": false,
          "start_time": "2020-10-01T00:25:58.002944",
          "status": "completed"
        },
        "tags": [],
        "id": "YRNehSYnwJdM"
      },
      "source": [
        "# Agents play one game round\n",
        "env.run([agent_leftmost, agent_random])\n",
        "\n",
        "# Show the game\n",
        "env.render(mode=\"ipython\")"
      ],
      "execution_count": null,
      "outputs": []
    },
    {
      "cell_type": "code",
      "metadata": {
        "_kg_hide-input": true,
        "execution": {
          "iopub.execute_input": "2020-10-01T00:25:58.151472Z",
          "iopub.status.busy": "2020-10-01T00:25:58.150765Z",
          "iopub.status.idle": "2020-10-01T00:25:58.154569Z",
          "shell.execute_reply": "2020-10-01T00:25:58.153863Z"
        },
        "papermill": {
          "duration": 0.033109,
          "end_time": "2020-10-01T00:25:58.154696",
          "exception": false,
          "start_time": "2020-10-01T00:25:58.121587",
          "status": "completed"
        },
        "tags": [],
        "id": "QtqsyvLSwJdP"
      },
      "source": [
        "\n",
        "def get_win_percentages(agent1, agent2, n_rounds=100):\n",
        "    # Use default Connect Four setup\n",
        "    config = {'rows': 6, 'columns': 7, 'inarow': 4}\n",
        "    # Agent 1 goes first (roughly) half the time          \n",
        "    outcomes = evaluate(\"connectx\", [agent1, agent2], config, [], n_rounds//2)\n",
        "    # Agent 2 goes first (roughly) half the time      \n",
        "    outcomes += [[b,a] for [a,b] in evaluate(\"connectx\", [agent2, agent1], config, [], n_rounds-n_rounds//2)]\n",
        "    print(\"Agent 1 Win Percentage:\", np.round(outcomes.count([1,-1])/len(outcomes), 2))\n",
        "    print(\"Agent 2 Win Percentage:\", np.round(outcomes.count([-1,1])/len(outcomes), 2))\n",
        "    print(\"Number of Invalid Plays by Agent 1:\", outcomes.count([None, 0]))\n",
        "    print(\"Number of Invalid Plays by Agent 2:\", outcomes.count([0, None]))"
      ],
      "execution_count": 8,
      "outputs": []
    }
  ]
}